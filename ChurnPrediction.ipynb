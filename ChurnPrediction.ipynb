{
 "cells": [
  {
   "cell_type": "markdown",
   "metadata": {},
   "source": [
    "# Churn Prediction for an OTT Platform\n",
    "\n",
    "The objective of this challenge was to predict which customers will churn and which customers won't. The dataset provided to us contains multiple columns. Let's checkout what are the different variables available and their description."
   ]
  },
  {
   "cell_type": "code",
   "execution_count": 1,
   "metadata": {},
   "outputs": [
    {
     "data": {
      "text/html": [
       "<div>\n",
       "<style scoped>\n",
       "    .dataframe tbody tr th:only-of-type {\n",
       "        vertical-align: middle;\n",
       "    }\n",
       "\n",
       "    .dataframe tbody tr th {\n",
       "        vertical-align: top;\n",
       "    }\n",
       "\n",
       "    .dataframe thead th {\n",
       "        text-align: right;\n",
       "    }\n",
       "</style>\n",
       "<table border=\"1\" class=\"dataframe\">\n",
       "  <thead>\n",
       "    <tr style=\"text-align: right;\">\n",
       "      <th></th>\n",
       "      <th>Column_name</th>\n",
       "      <th>Column_type</th>\n",
       "      <th>Data_type</th>\n",
       "      <th>Description</th>\n",
       "    </tr>\n",
       "  </thead>\n",
       "  <tbody>\n",
       "    <tr>\n",
       "      <th>0</th>\n",
       "      <td>AccountAge</td>\n",
       "      <td>Feature</td>\n",
       "      <td>integer</td>\n",
       "      <td>The age of the user's account in months.</td>\n",
       "    </tr>\n",
       "    <tr>\n",
       "      <th>1</th>\n",
       "      <td>MonthlyCharges</td>\n",
       "      <td>Feature</td>\n",
       "      <td>float</td>\n",
       "      <td>The amount charged to the user on a monthly basis.</td>\n",
       "    </tr>\n",
       "    <tr>\n",
       "      <th>2</th>\n",
       "      <td>TotalCharges</td>\n",
       "      <td>Feature</td>\n",
       "      <td>float</td>\n",
       "      <td>The total charges incurred by the user over the account's lifetime.</td>\n",
       "    </tr>\n",
       "    <tr>\n",
       "      <th>3</th>\n",
       "      <td>SubscriptionType</td>\n",
       "      <td>Feature</td>\n",
       "      <td>object</td>\n",
       "      <td>The type of subscription chosen by the user (Basic, Standard, or Premium).</td>\n",
       "    </tr>\n",
       "    <tr>\n",
       "      <th>4</th>\n",
       "      <td>PaymentMethod</td>\n",
       "      <td>Feature</td>\n",
       "      <td>string</td>\n",
       "      <td>The method of payment used by the user.</td>\n",
       "    </tr>\n",
       "    <tr>\n",
       "      <th>5</th>\n",
       "      <td>PaperlessBilling</td>\n",
       "      <td>Feature</td>\n",
       "      <td>string</td>\n",
       "      <td>Indicates whether the user has opted for paperless billing (Yes or No).</td>\n",
       "    </tr>\n",
       "    <tr>\n",
       "      <th>6</th>\n",
       "      <td>ContentType</td>\n",
       "      <td>Feature</td>\n",
       "      <td>string</td>\n",
       "      <td>The type of content preferred by the user (Movies, TV Shows, or Both).</td>\n",
       "    </tr>\n",
       "    <tr>\n",
       "      <th>7</th>\n",
       "      <td>MultiDeviceAccess</td>\n",
       "      <td>Feature</td>\n",
       "      <td>string</td>\n",
       "      <td>Indicates whether the user has access to the service on multiple devices (Yes or No).</td>\n",
       "    </tr>\n",
       "    <tr>\n",
       "      <th>8</th>\n",
       "      <td>DeviceRegistered</td>\n",
       "      <td>Feature</td>\n",
       "      <td>string</td>\n",
       "      <td>The type of device registered by the user (TV, Mobile, Tablet, or Computer).</td>\n",
       "    </tr>\n",
       "    <tr>\n",
       "      <th>9</th>\n",
       "      <td>ViewingHoursPerWeek</td>\n",
       "      <td>Feature</td>\n",
       "      <td>float</td>\n",
       "      <td>The number of hours the user spends watching content per week.</td>\n",
       "    </tr>\n",
       "    <tr>\n",
       "      <th>10</th>\n",
       "      <td>AverageViewingDuration</td>\n",
       "      <td>Feature</td>\n",
       "      <td>float</td>\n",
       "      <td>The average duration of each viewing session in minutes.</td>\n",
       "    </tr>\n",
       "    <tr>\n",
       "      <th>11</th>\n",
       "      <td>ContentDownloadsPerMonth</td>\n",
       "      <td>Feature</td>\n",
       "      <td>integer</td>\n",
       "      <td>The number of content downloads by the user per month.</td>\n",
       "    </tr>\n",
       "    <tr>\n",
       "      <th>12</th>\n",
       "      <td>GenrePreference</td>\n",
       "      <td>Feature</td>\n",
       "      <td>string</td>\n",
       "      <td>The preferred genre of content chosen by the user.</td>\n",
       "    </tr>\n",
       "    <tr>\n",
       "      <th>13</th>\n",
       "      <td>UserRating</td>\n",
       "      <td>Feature</td>\n",
       "      <td>float</td>\n",
       "      <td>The user's rating for the service on a scale of 1 to 5.</td>\n",
       "    </tr>\n",
       "    <tr>\n",
       "      <th>14</th>\n",
       "      <td>SupportTicketsPerMonth</td>\n",
       "      <td>Feature</td>\n",
       "      <td>integer</td>\n",
       "      <td>The number of support tickets raised by the user per month.</td>\n",
       "    </tr>\n",
       "    <tr>\n",
       "      <th>15</th>\n",
       "      <td>Gender</td>\n",
       "      <td>Feature</td>\n",
       "      <td>string</td>\n",
       "      <td>The gender of the user (Male or Female).</td>\n",
       "    </tr>\n",
       "    <tr>\n",
       "      <th>16</th>\n",
       "      <td>WatchlistSize</td>\n",
       "      <td>Feature</td>\n",
       "      <td>float</td>\n",
       "      <td>The number of items in the user's watchlist.</td>\n",
       "    </tr>\n",
       "    <tr>\n",
       "      <th>17</th>\n",
       "      <td>ParentalControl</td>\n",
       "      <td>Feature</td>\n",
       "      <td>string</td>\n",
       "      <td>Indicates whether parental control is enabled for the user (Yes or No).</td>\n",
       "    </tr>\n",
       "    <tr>\n",
       "      <th>18</th>\n",
       "      <td>SubtitlesEnabled</td>\n",
       "      <td>Feature</td>\n",
       "      <td>string</td>\n",
       "      <td>Indicates whether subtitles are enabled for the user (Yes or No).</td>\n",
       "    </tr>\n",
       "    <tr>\n",
       "      <th>19</th>\n",
       "      <td>CustomerID</td>\n",
       "      <td>Identifier</td>\n",
       "      <td>string</td>\n",
       "      <td>A unique identifier for each customer.</td>\n",
       "    </tr>\n",
       "    <tr>\n",
       "      <th>20</th>\n",
       "      <td>Churn</td>\n",
       "      <td>Target</td>\n",
       "      <td>integer</td>\n",
       "      <td>The target variable indicating whether a user has churned or not (1 for churned, 0 for not churned).</td>\n",
       "    </tr>\n",
       "  </tbody>\n",
       "</table>\n",
       "</div>"
      ],
      "text/plain": [
       "                 Column_name Column_type Data_type  \\\n",
       "0                 AccountAge     Feature   integer   \n",
       "1             MonthlyCharges     Feature     float   \n",
       "2               TotalCharges     Feature     float   \n",
       "3           SubscriptionType     Feature    object   \n",
       "4              PaymentMethod     Feature    string   \n",
       "5           PaperlessBilling     Feature    string   \n",
       "6                ContentType     Feature    string   \n",
       "7          MultiDeviceAccess     Feature    string   \n",
       "8           DeviceRegistered     Feature    string   \n",
       "9        ViewingHoursPerWeek     Feature     float   \n",
       "10    AverageViewingDuration     Feature     float   \n",
       "11  ContentDownloadsPerMonth     Feature   integer   \n",
       "12           GenrePreference     Feature    string   \n",
       "13                UserRating     Feature     float   \n",
       "14    SupportTicketsPerMonth     Feature   integer   \n",
       "15                    Gender     Feature    string   \n",
       "16             WatchlistSize     Feature     float   \n",
       "17           ParentalControl     Feature    string   \n",
       "18          SubtitlesEnabled     Feature    string   \n",
       "19                CustomerID  Identifier    string   \n",
       "20                     Churn      Target   integer   \n",
       "\n",
       "                                                                                             Description  \n",
       "0                                                               The age of the user's account in months.  \n",
       "1                                                     The amount charged to the user on a monthly basis.  \n",
       "2                                    The total charges incurred by the user over the account's lifetime.  \n",
       "3                             The type of subscription chosen by the user (Basic, Standard, or Premium).  \n",
       "4                                                                The method of payment used by the user.  \n",
       "5                                Indicates whether the user has opted for paperless billing (Yes or No).  \n",
       "6                                 The type of content preferred by the user (Movies, TV Shows, or Both).  \n",
       "7                  Indicates whether the user has access to the service on multiple devices (Yes or No).  \n",
       "8                           The type of device registered by the user (TV, Mobile, Tablet, or Computer).  \n",
       "9                                         The number of hours the user spends watching content per week.  \n",
       "10                                              The average duration of each viewing session in minutes.  \n",
       "11                                                The number of content downloads by the user per month.  \n",
       "12                                                    The preferred genre of content chosen by the user.  \n",
       "13                                               The user's rating for the service on a scale of 1 to 5.  \n",
       "14                                           The number of support tickets raised by the user per month.  \n",
       "15                                                              The gender of the user (Male or Female).  \n",
       "16                                                          The number of items in the user's watchlist.  \n",
       "17                               Indicates whether parental control is enabled for the user (Yes or No).  \n",
       "18                                     Indicates whether subtitles are enabled for the user (Yes or No).  \n",
       "19                                                                A unique identifier for each customer.  \n",
       "20  The target variable indicating whether a user has churned or not (1 for churned, 0 for not churned).  "
      ]
     },
     "execution_count": 1,
     "metadata": {},
     "output_type": "execute_result"
    }
   ],
   "source": [
    "import pandas as pd\n",
    "data_descriptions = pd.read_csv('data_descriptions.csv')\n",
    "pd.set_option('display.max_colwidth', None)\n",
    "data_descriptions"
   ]
  },
  {
   "cell_type": "markdown",
   "metadata": {},
   "source": [
    "Seems like there are 18 independent variables (we will not consider 'CustomerID' as it does not influence the Churn) and 1 dependent (or target) variable, i.e. 'Churn'."
   ]
  },
  {
   "cell_type": "markdown",
   "metadata": {},
   "source": [
    "## Import Python Modules\n",
    "\n",
    "First, I will be importing the primary modules that will be used in this project. Some of the following popular packages will be useful:\n",
    "\n",
    "- pandas\n",
    "- numpy\n",
    "- Scipy\n",
    "- Scikit-learn\n",
    "- keras\n",
    "- maplotlib\n",
    "- seaborn\n",
    "- etc, etc\n",
    "\n",
    "We need to install 'xgboost' module as it is not pre-installed on this machine."
   ]
  },
  {
   "cell_type": "markdown",
   "metadata": {},
   "source": [
    "### Installing XGBoost package"
   ]
  },
  {
   "cell_type": "code",
   "execution_count": 2,
   "metadata": {},
   "outputs": [
    {
     "name": "stdout",
     "output_type": "stream",
     "text": [
      "Collecting xgboost\n",
      "  Downloading xgboost-1.6.2-py3-none-manylinux2014_x86_64.whl (255.9 MB)\n",
      "     |████████████████████████████████| 255.9 MB 30 kB/s              \n",
      "\u001b[?25hRequirement already satisfied: scipy in /opt/conda/lib/python3.7/site-packages (from xgboost) (1.4.1)\n",
      "Requirement already satisfied: numpy in /opt/conda/lib/python3.7/site-packages (from xgboost) (1.18.4)\n",
      "Installing collected packages: xgboost\n",
      "Successfully installed xgboost-1.6.2\n",
      "\u001b[33mWARNING: You are using pip version 21.3.1; however, version 24.0 is available.\n",
      "You should consider upgrading via the '/opt/conda/bin/python3 -m pip install --upgrade pip' command.\u001b[0m\n"
     ]
    }
   ],
   "source": [
    "# Installing xgboost\n",
    "!pip install xgboost"
   ]
  },
  {
   "cell_type": "code",
   "execution_count": 2,
   "metadata": {},
   "outputs": [],
   "source": [
    "# Importing pandas and numpy for data manipulation and analysis of the dataset\n",
    "import pandas as pd\n",
    "import numpy as np\n",
    "\n",
    "# Visualization Packages to do Exploratory Data Analysis\n",
    "from matplotlib import pyplot as plt\n",
    "import seaborn as sns\n",
    "%matplotlib inline\n",
    "\n",
    "# For pre-processing\n",
    "from sklearn.preprocessing import MinMaxScaler\n",
    "\n",
    "# For splitting the model into training and testing dataset\n",
    "from sklearn.model_selection import train_test_split\n",
    "\n",
    "# For building different Machine Learning Models\n",
    "# Logistic Regression\n",
    "from sklearn.linear_model import LogisticRegression\n",
    "# Decision Tree\n",
    "from sklearn.tree import DecisionTreeClassifier\n",
    "# Random Forest\n",
    "from sklearn.ensemble import RandomForestClassifier\n",
    "# XGBoost\n",
    "from xgboost import XGBClassifier\n",
    "\n",
    "# For hyper-parameter tuning\n",
    "from sklearn.model_selection import GridSearchCV\n",
    "\n",
    "# For evaluating recall, precision, accuracy and f1 scores, and roc auc score of models\n",
    "from sklearn.metrics import recall_score, precision_score, accuracy_score, f1_score\n",
    "from sklearn.metrics import roc_auc_score"
   ]
  },
  {
   "cell_type": "markdown",
   "metadata": {},
   "source": [
    "### Using different Tuned Machine Learning Models\n",
    "\n",
    "We will be using 4 different Machine Learning Models to predict the Churn:\n",
    "1. Logistic Regression\n",
    "2. Decision Tree\n",
    "3. Random Forest\n",
    "4. XGBoost\n",
    "\n",
    "All 4 of these models' parameters will be tuned using GridSearchCV to find the best parameters that will give the highest **ROC AUC Score**. The best out of these 4 tuned models will be submitted."
   ]
  },
  {
   "cell_type": "markdown",
   "metadata": {},
   "source": [
    "## Load the Data\n",
    "\n",
    "Now, I have been provided with 2 different datasets: One for training our models and the other that will check our model's efficiency on unseen data using ROC AUC score as the scoring metric. Let's start by loading the dataset `train.csv` into a dataframe `train_df`, and `test.csv` into a dataframe `test_df` and display the shape of the dataframes."
   ]
  },
  {
   "cell_type": "code",
   "execution_count": 3,
   "metadata": {},
   "outputs": [
    {
     "name": "stdout",
     "output_type": "stream",
     "text": [
      "train_df Shape: (243787, 21)\n"
     ]
    },
    {
     "data": {
      "text/html": [
       "<div>\n",
       "<style scoped>\n",
       "    .dataframe tbody tr th:only-of-type {\n",
       "        vertical-align: middle;\n",
       "    }\n",
       "\n",
       "    .dataframe tbody tr th {\n",
       "        vertical-align: top;\n",
       "    }\n",
       "\n",
       "    .dataframe thead th {\n",
       "        text-align: right;\n",
       "    }\n",
       "</style>\n",
       "<table border=\"1\" class=\"dataframe\">\n",
       "  <thead>\n",
       "    <tr style=\"text-align: right;\">\n",
       "      <th></th>\n",
       "      <th>AccountAge</th>\n",
       "      <th>MonthlyCharges</th>\n",
       "      <th>TotalCharges</th>\n",
       "      <th>SubscriptionType</th>\n",
       "      <th>PaymentMethod</th>\n",
       "      <th>PaperlessBilling</th>\n",
       "      <th>ContentType</th>\n",
       "      <th>MultiDeviceAccess</th>\n",
       "      <th>DeviceRegistered</th>\n",
       "      <th>ViewingHoursPerWeek</th>\n",
       "      <th>...</th>\n",
       "      <th>ContentDownloadsPerMonth</th>\n",
       "      <th>GenrePreference</th>\n",
       "      <th>UserRating</th>\n",
       "      <th>SupportTicketsPerMonth</th>\n",
       "      <th>Gender</th>\n",
       "      <th>WatchlistSize</th>\n",
       "      <th>ParentalControl</th>\n",
       "      <th>SubtitlesEnabled</th>\n",
       "      <th>CustomerID</th>\n",
       "      <th>Churn</th>\n",
       "    </tr>\n",
       "  </thead>\n",
       "  <tbody>\n",
       "    <tr>\n",
       "      <th>0</th>\n",
       "      <td>20</td>\n",
       "      <td>11.055215</td>\n",
       "      <td>221.104302</td>\n",
       "      <td>Premium</td>\n",
       "      <td>Mailed check</td>\n",
       "      <td>No</td>\n",
       "      <td>Both</td>\n",
       "      <td>No</td>\n",
       "      <td>Mobile</td>\n",
       "      <td>36.758104</td>\n",
       "      <td>...</td>\n",
       "      <td>10</td>\n",
       "      <td>Sci-Fi</td>\n",
       "      <td>2.176498</td>\n",
       "      <td>4</td>\n",
       "      <td>Male</td>\n",
       "      <td>3</td>\n",
       "      <td>No</td>\n",
       "      <td>No</td>\n",
       "      <td>CB6SXPNVZA</td>\n",
       "      <td>0</td>\n",
       "    </tr>\n",
       "    <tr>\n",
       "      <th>1</th>\n",
       "      <td>57</td>\n",
       "      <td>5.175208</td>\n",
       "      <td>294.986882</td>\n",
       "      <td>Basic</td>\n",
       "      <td>Credit card</td>\n",
       "      <td>Yes</td>\n",
       "      <td>Movies</td>\n",
       "      <td>No</td>\n",
       "      <td>Tablet</td>\n",
       "      <td>32.450568</td>\n",
       "      <td>...</td>\n",
       "      <td>18</td>\n",
       "      <td>Action</td>\n",
       "      <td>3.478632</td>\n",
       "      <td>8</td>\n",
       "      <td>Male</td>\n",
       "      <td>23</td>\n",
       "      <td>No</td>\n",
       "      <td>Yes</td>\n",
       "      <td>S7R2G87O09</td>\n",
       "      <td>0</td>\n",
       "    </tr>\n",
       "    <tr>\n",
       "      <th>2</th>\n",
       "      <td>73</td>\n",
       "      <td>12.106657</td>\n",
       "      <td>883.785952</td>\n",
       "      <td>Basic</td>\n",
       "      <td>Mailed check</td>\n",
       "      <td>Yes</td>\n",
       "      <td>Movies</td>\n",
       "      <td>No</td>\n",
       "      <td>Computer</td>\n",
       "      <td>7.395160</td>\n",
       "      <td>...</td>\n",
       "      <td>23</td>\n",
       "      <td>Fantasy</td>\n",
       "      <td>4.238824</td>\n",
       "      <td>6</td>\n",
       "      <td>Male</td>\n",
       "      <td>1</td>\n",
       "      <td>Yes</td>\n",
       "      <td>Yes</td>\n",
       "      <td>EASDC20BDT</td>\n",
       "      <td>0</td>\n",
       "    </tr>\n",
       "    <tr>\n",
       "      <th>3</th>\n",
       "      <td>32</td>\n",
       "      <td>7.263743</td>\n",
       "      <td>232.439774</td>\n",
       "      <td>Basic</td>\n",
       "      <td>Electronic check</td>\n",
       "      <td>No</td>\n",
       "      <td>TV Shows</td>\n",
       "      <td>No</td>\n",
       "      <td>Tablet</td>\n",
       "      <td>27.960389</td>\n",
       "      <td>...</td>\n",
       "      <td>30</td>\n",
       "      <td>Drama</td>\n",
       "      <td>4.276013</td>\n",
       "      <td>2</td>\n",
       "      <td>Male</td>\n",
       "      <td>24</td>\n",
       "      <td>Yes</td>\n",
       "      <td>Yes</td>\n",
       "      <td>NPF69NT69N</td>\n",
       "      <td>0</td>\n",
       "    </tr>\n",
       "    <tr>\n",
       "      <th>4</th>\n",
       "      <td>57</td>\n",
       "      <td>16.953078</td>\n",
       "      <td>966.325422</td>\n",
       "      <td>Premium</td>\n",
       "      <td>Electronic check</td>\n",
       "      <td>Yes</td>\n",
       "      <td>TV Shows</td>\n",
       "      <td>No</td>\n",
       "      <td>TV</td>\n",
       "      <td>20.083397</td>\n",
       "      <td>...</td>\n",
       "      <td>20</td>\n",
       "      <td>Comedy</td>\n",
       "      <td>3.616170</td>\n",
       "      <td>4</td>\n",
       "      <td>Female</td>\n",
       "      <td>0</td>\n",
       "      <td>No</td>\n",
       "      <td>No</td>\n",
       "      <td>4LGYPK7VOL</td>\n",
       "      <td>0</td>\n",
       "    </tr>\n",
       "  </tbody>\n",
       "</table>\n",
       "<p>5 rows × 21 columns</p>\n",
       "</div>"
      ],
      "text/plain": [
       "   AccountAge  MonthlyCharges  TotalCharges SubscriptionType  \\\n",
       "0          20       11.055215    221.104302          Premium   \n",
       "1          57        5.175208    294.986882            Basic   \n",
       "2          73       12.106657    883.785952            Basic   \n",
       "3          32        7.263743    232.439774            Basic   \n",
       "4          57       16.953078    966.325422          Premium   \n",
       "\n",
       "      PaymentMethod PaperlessBilling ContentType MultiDeviceAccess  \\\n",
       "0      Mailed check               No        Both                No   \n",
       "1       Credit card              Yes      Movies                No   \n",
       "2      Mailed check              Yes      Movies                No   \n",
       "3  Electronic check               No    TV Shows                No   \n",
       "4  Electronic check              Yes    TV Shows                No   \n",
       "\n",
       "  DeviceRegistered  ViewingHoursPerWeek  ...  ContentDownloadsPerMonth  \\\n",
       "0           Mobile            36.758104  ...                        10   \n",
       "1           Tablet            32.450568  ...                        18   \n",
       "2         Computer             7.395160  ...                        23   \n",
       "3           Tablet            27.960389  ...                        30   \n",
       "4               TV            20.083397  ...                        20   \n",
       "\n",
       "   GenrePreference UserRating  SupportTicketsPerMonth  Gender WatchlistSize  \\\n",
       "0           Sci-Fi   2.176498                       4    Male             3   \n",
       "1           Action   3.478632                       8    Male            23   \n",
       "2          Fantasy   4.238824                       6    Male             1   \n",
       "3            Drama   4.276013                       2    Male            24   \n",
       "4           Comedy   3.616170                       4  Female             0   \n",
       "\n",
       "   ParentalControl SubtitlesEnabled  CustomerID Churn  \n",
       "0               No               No  CB6SXPNVZA     0  \n",
       "1               No              Yes  S7R2G87O09     0  \n",
       "2              Yes              Yes  EASDC20BDT     0  \n",
       "3              Yes              Yes  NPF69NT69N     0  \n",
       "4               No               No  4LGYPK7VOL     0  \n",
       "\n",
       "[5 rows x 21 columns]"
      ]
     },
     "execution_count": 3,
     "metadata": {},
     "output_type": "execute_result"
    }
   ],
   "source": [
    "train_df = pd.read_csv(\"train.csv\")\n",
    "print('train_df Shape:', train_df.shape)\n",
    "train_df.head()"
   ]
  },
  {
   "cell_type": "code",
   "execution_count": 4,
   "metadata": {},
   "outputs": [
    {
     "name": "stdout",
     "output_type": "stream",
     "text": [
      "test_df Shape: (104480, 20)\n"
     ]
    },
    {
     "data": {
      "text/html": [
       "<div>\n",
       "<style scoped>\n",
       "    .dataframe tbody tr th:only-of-type {\n",
       "        vertical-align: middle;\n",
       "    }\n",
       "\n",
       "    .dataframe tbody tr th {\n",
       "        vertical-align: top;\n",
       "    }\n",
       "\n",
       "    .dataframe thead th {\n",
       "        text-align: right;\n",
       "    }\n",
       "</style>\n",
       "<table border=\"1\" class=\"dataframe\">\n",
       "  <thead>\n",
       "    <tr style=\"text-align: right;\">\n",
       "      <th></th>\n",
       "      <th>AccountAge</th>\n",
       "      <th>MonthlyCharges</th>\n",
       "      <th>TotalCharges</th>\n",
       "      <th>SubscriptionType</th>\n",
       "      <th>PaymentMethod</th>\n",
       "      <th>PaperlessBilling</th>\n",
       "      <th>ContentType</th>\n",
       "      <th>MultiDeviceAccess</th>\n",
       "      <th>DeviceRegistered</th>\n",
       "      <th>ViewingHoursPerWeek</th>\n",
       "      <th>AverageViewingDuration</th>\n",
       "      <th>ContentDownloadsPerMonth</th>\n",
       "      <th>GenrePreference</th>\n",
       "      <th>UserRating</th>\n",
       "      <th>SupportTicketsPerMonth</th>\n",
       "      <th>Gender</th>\n",
       "      <th>WatchlistSize</th>\n",
       "      <th>ParentalControl</th>\n",
       "      <th>SubtitlesEnabled</th>\n",
       "      <th>CustomerID</th>\n",
       "    </tr>\n",
       "  </thead>\n",
       "  <tbody>\n",
       "    <tr>\n",
       "      <th>0</th>\n",
       "      <td>38</td>\n",
       "      <td>17.869374</td>\n",
       "      <td>679.036195</td>\n",
       "      <td>Premium</td>\n",
       "      <td>Mailed check</td>\n",
       "      <td>No</td>\n",
       "      <td>TV Shows</td>\n",
       "      <td>No</td>\n",
       "      <td>TV</td>\n",
       "      <td>29.126308</td>\n",
       "      <td>122.274031</td>\n",
       "      <td>42</td>\n",
       "      <td>Comedy</td>\n",
       "      <td>3.522724</td>\n",
       "      <td>2</td>\n",
       "      <td>Male</td>\n",
       "      <td>23</td>\n",
       "      <td>No</td>\n",
       "      <td>No</td>\n",
       "      <td>O1W6BHP6RM</td>\n",
       "    </tr>\n",
       "    <tr>\n",
       "      <th>1</th>\n",
       "      <td>77</td>\n",
       "      <td>9.912854</td>\n",
       "      <td>763.289768</td>\n",
       "      <td>Basic</td>\n",
       "      <td>Electronic check</td>\n",
       "      <td>Yes</td>\n",
       "      <td>TV Shows</td>\n",
       "      <td>No</td>\n",
       "      <td>TV</td>\n",
       "      <td>36.873729</td>\n",
       "      <td>57.093319</td>\n",
       "      <td>43</td>\n",
       "      <td>Action</td>\n",
       "      <td>2.021545</td>\n",
       "      <td>2</td>\n",
       "      <td>Female</td>\n",
       "      <td>22</td>\n",
       "      <td>Yes</td>\n",
       "      <td>No</td>\n",
       "      <td>LFR4X92X8H</td>\n",
       "    </tr>\n",
       "    <tr>\n",
       "      <th>2</th>\n",
       "      <td>5</td>\n",
       "      <td>15.019011</td>\n",
       "      <td>75.095057</td>\n",
       "      <td>Standard</td>\n",
       "      <td>Bank transfer</td>\n",
       "      <td>No</td>\n",
       "      <td>TV Shows</td>\n",
       "      <td>Yes</td>\n",
       "      <td>Computer</td>\n",
       "      <td>7.601729</td>\n",
       "      <td>140.414001</td>\n",
       "      <td>14</td>\n",
       "      <td>Sci-Fi</td>\n",
       "      <td>4.806126</td>\n",
       "      <td>2</td>\n",
       "      <td>Female</td>\n",
       "      <td>22</td>\n",
       "      <td>No</td>\n",
       "      <td>Yes</td>\n",
       "      <td>QM5GBIYODA</td>\n",
       "    </tr>\n",
       "    <tr>\n",
       "      <th>3</th>\n",
       "      <td>88</td>\n",
       "      <td>15.357406</td>\n",
       "      <td>1351.451692</td>\n",
       "      <td>Standard</td>\n",
       "      <td>Electronic check</td>\n",
       "      <td>No</td>\n",
       "      <td>Both</td>\n",
       "      <td>Yes</td>\n",
       "      <td>Tablet</td>\n",
       "      <td>35.586430</td>\n",
       "      <td>177.002419</td>\n",
       "      <td>14</td>\n",
       "      <td>Comedy</td>\n",
       "      <td>4.943900</td>\n",
       "      <td>0</td>\n",
       "      <td>Female</td>\n",
       "      <td>23</td>\n",
       "      <td>Yes</td>\n",
       "      <td>Yes</td>\n",
       "      <td>D9RXTK2K9F</td>\n",
       "    </tr>\n",
       "    <tr>\n",
       "      <th>4</th>\n",
       "      <td>91</td>\n",
       "      <td>12.406033</td>\n",
       "      <td>1128.949004</td>\n",
       "      <td>Standard</td>\n",
       "      <td>Credit card</td>\n",
       "      <td>Yes</td>\n",
       "      <td>TV Shows</td>\n",
       "      <td>Yes</td>\n",
       "      <td>Tablet</td>\n",
       "      <td>23.503651</td>\n",
       "      <td>70.308376</td>\n",
       "      <td>6</td>\n",
       "      <td>Drama</td>\n",
       "      <td>2.846880</td>\n",
       "      <td>6</td>\n",
       "      <td>Female</td>\n",
       "      <td>0</td>\n",
       "      <td>No</td>\n",
       "      <td>No</td>\n",
       "      <td>ENTCCHR1LR</td>\n",
       "    </tr>\n",
       "  </tbody>\n",
       "</table>\n",
       "</div>"
      ],
      "text/plain": [
       "   AccountAge  MonthlyCharges  TotalCharges SubscriptionType  \\\n",
       "0          38       17.869374    679.036195          Premium   \n",
       "1          77        9.912854    763.289768            Basic   \n",
       "2           5       15.019011     75.095057         Standard   \n",
       "3          88       15.357406   1351.451692         Standard   \n",
       "4          91       12.406033   1128.949004         Standard   \n",
       "\n",
       "      PaymentMethod PaperlessBilling ContentType MultiDeviceAccess  \\\n",
       "0      Mailed check               No    TV Shows                No   \n",
       "1  Electronic check              Yes    TV Shows                No   \n",
       "2     Bank transfer               No    TV Shows               Yes   \n",
       "3  Electronic check               No        Both               Yes   \n",
       "4       Credit card              Yes    TV Shows               Yes   \n",
       "\n",
       "  DeviceRegistered  ViewingHoursPerWeek  AverageViewingDuration  \\\n",
       "0               TV            29.126308              122.274031   \n",
       "1               TV            36.873729               57.093319   \n",
       "2         Computer             7.601729              140.414001   \n",
       "3           Tablet            35.586430              177.002419   \n",
       "4           Tablet            23.503651               70.308376   \n",
       "\n",
       "   ContentDownloadsPerMonth GenrePreference  UserRating  \\\n",
       "0                        42          Comedy    3.522724   \n",
       "1                        43          Action    2.021545   \n",
       "2                        14          Sci-Fi    4.806126   \n",
       "3                        14          Comedy    4.943900   \n",
       "4                         6           Drama    2.846880   \n",
       "\n",
       "   SupportTicketsPerMonth  Gender  WatchlistSize ParentalControl  \\\n",
       "0                       2    Male             23              No   \n",
       "1                       2  Female             22             Yes   \n",
       "2                       2  Female             22              No   \n",
       "3                       0  Female             23             Yes   \n",
       "4                       6  Female              0              No   \n",
       "\n",
       "  SubtitlesEnabled  CustomerID  \n",
       "0               No  O1W6BHP6RM  \n",
       "1               No  LFR4X92X8H  \n",
       "2              Yes  QM5GBIYODA  \n",
       "3              Yes  D9RXTK2K9F  \n",
       "4               No  ENTCCHR1LR  "
      ]
     },
     "execution_count": 4,
     "metadata": {},
     "output_type": "execute_result"
    }
   ],
   "source": [
    "test_df = pd.read_csv(\"test.csv\")\n",
    "print('test_df Shape:', test_df.shape)\n",
    "test_df.head()"
   ]
  },
  {
   "cell_type": "markdown",
   "metadata": {},
   "source": [
    "## Exploring, Cleaning, Validating, and Visualizing the Data\n",
    "\n",
    "We will first explore, validate and visualize the data, and if need occurs, we will clean it too.<br>\n",
    "Let's first start with the description of the data."
   ]
  },
  {
   "cell_type": "code",
   "execution_count": 4,
   "metadata": {},
   "outputs": [
    {
     "data": {
      "text/html": [
       "<div>\n",
       "<style scoped>\n",
       "    .dataframe tbody tr th:only-of-type {\n",
       "        vertical-align: middle;\n",
       "    }\n",
       "\n",
       "    .dataframe tbody tr th {\n",
       "        vertical-align: top;\n",
       "    }\n",
       "\n",
       "    .dataframe thead th {\n",
       "        text-align: right;\n",
       "    }\n",
       "</style>\n",
       "<table border=\"1\" class=\"dataframe\">\n",
       "  <thead>\n",
       "    <tr style=\"text-align: right;\">\n",
       "      <th></th>\n",
       "      <th>AccountAge</th>\n",
       "      <th>MonthlyCharges</th>\n",
       "      <th>TotalCharges</th>\n",
       "      <th>ViewingHoursPerWeek</th>\n",
       "      <th>AverageViewingDuration</th>\n",
       "      <th>ContentDownloadsPerMonth</th>\n",
       "      <th>UserRating</th>\n",
       "      <th>SupportTicketsPerMonth</th>\n",
       "      <th>WatchlistSize</th>\n",
       "      <th>Churn</th>\n",
       "    </tr>\n",
       "  </thead>\n",
       "  <tbody>\n",
       "    <tr>\n",
       "      <th>count</th>\n",
       "      <td>243787.000000</td>\n",
       "      <td>243787.000000</td>\n",
       "      <td>243787.000000</td>\n",
       "      <td>243787.000000</td>\n",
       "      <td>243787.000000</td>\n",
       "      <td>243787.000000</td>\n",
       "      <td>243787.000000</td>\n",
       "      <td>243787.000000</td>\n",
       "      <td>243787.000000</td>\n",
       "      <td>243787.000000</td>\n",
       "    </tr>\n",
       "    <tr>\n",
       "      <th>mean</th>\n",
       "      <td>60.083758</td>\n",
       "      <td>12.490695</td>\n",
       "      <td>750.741017</td>\n",
       "      <td>20.502179</td>\n",
       "      <td>92.264061</td>\n",
       "      <td>24.503513</td>\n",
       "      <td>3.002713</td>\n",
       "      <td>4.504186</td>\n",
       "      <td>12.018508</td>\n",
       "      <td>0.181232</td>\n",
       "    </tr>\n",
       "    <tr>\n",
       "      <th>std</th>\n",
       "      <td>34.285143</td>\n",
       "      <td>4.327615</td>\n",
       "      <td>523.073273</td>\n",
       "      <td>11.243753</td>\n",
       "      <td>50.505243</td>\n",
       "      <td>14.421174</td>\n",
       "      <td>1.155259</td>\n",
       "      <td>2.872548</td>\n",
       "      <td>7.193034</td>\n",
       "      <td>0.385211</td>\n",
       "    </tr>\n",
       "    <tr>\n",
       "      <th>min</th>\n",
       "      <td>1.000000</td>\n",
       "      <td>4.990062</td>\n",
       "      <td>4.991154</td>\n",
       "      <td>1.000065</td>\n",
       "      <td>5.000547</td>\n",
       "      <td>0.000000</td>\n",
       "      <td>1.000007</td>\n",
       "      <td>0.000000</td>\n",
       "      <td>0.000000</td>\n",
       "      <td>0.000000</td>\n",
       "    </tr>\n",
       "    <tr>\n",
       "      <th>25%</th>\n",
       "      <td>30.000000</td>\n",
       "      <td>8.738543</td>\n",
       "      <td>329.147027</td>\n",
       "      <td>10.763953</td>\n",
       "      <td>48.382395</td>\n",
       "      <td>12.000000</td>\n",
       "      <td>2.000853</td>\n",
       "      <td>2.000000</td>\n",
       "      <td>6.000000</td>\n",
       "      <td>0.000000</td>\n",
       "    </tr>\n",
       "    <tr>\n",
       "      <th>50%</th>\n",
       "      <td>60.000000</td>\n",
       "      <td>12.495555</td>\n",
       "      <td>649.878487</td>\n",
       "      <td>20.523116</td>\n",
       "      <td>92.249992</td>\n",
       "      <td>24.000000</td>\n",
       "      <td>3.002261</td>\n",
       "      <td>4.000000</td>\n",
       "      <td>12.000000</td>\n",
       "      <td>0.000000</td>\n",
       "    </tr>\n",
       "    <tr>\n",
       "      <th>75%</th>\n",
       "      <td>90.000000</td>\n",
       "      <td>16.238160</td>\n",
       "      <td>1089.317362</td>\n",
       "      <td>30.219396</td>\n",
       "      <td>135.908048</td>\n",
       "      <td>37.000000</td>\n",
       "      <td>4.002157</td>\n",
       "      <td>7.000000</td>\n",
       "      <td>18.000000</td>\n",
       "      <td>0.000000</td>\n",
       "    </tr>\n",
       "    <tr>\n",
       "      <th>max</th>\n",
       "      <td>119.000000</td>\n",
       "      <td>19.989957</td>\n",
       "      <td>2378.723844</td>\n",
       "      <td>39.999723</td>\n",
       "      <td>179.999275</td>\n",
       "      <td>49.000000</td>\n",
       "      <td>4.999989</td>\n",
       "      <td>9.000000</td>\n",
       "      <td>24.000000</td>\n",
       "      <td>1.000000</td>\n",
       "    </tr>\n",
       "  </tbody>\n",
       "</table>\n",
       "</div>"
      ],
      "text/plain": [
       "          AccountAge  MonthlyCharges   TotalCharges  ViewingHoursPerWeek  \\\n",
       "count  243787.000000   243787.000000  243787.000000        243787.000000   \n",
       "mean       60.083758       12.490695     750.741017            20.502179   \n",
       "std        34.285143        4.327615     523.073273            11.243753   \n",
       "min         1.000000        4.990062       4.991154             1.000065   \n",
       "25%        30.000000        8.738543     329.147027            10.763953   \n",
       "50%        60.000000       12.495555     649.878487            20.523116   \n",
       "75%        90.000000       16.238160    1089.317362            30.219396   \n",
       "max       119.000000       19.989957    2378.723844            39.999723   \n",
       "\n",
       "       AverageViewingDuration  ContentDownloadsPerMonth     UserRating  \\\n",
       "count           243787.000000             243787.000000  243787.000000   \n",
       "mean                92.264061                 24.503513       3.002713   \n",
       "std                 50.505243                 14.421174       1.155259   \n",
       "min                  5.000547                  0.000000       1.000007   \n",
       "25%                 48.382395                 12.000000       2.000853   \n",
       "50%                 92.249992                 24.000000       3.002261   \n",
       "75%                135.908048                 37.000000       4.002157   \n",
       "max                179.999275                 49.000000       4.999989   \n",
       "\n",
       "       SupportTicketsPerMonth  WatchlistSize          Churn  \n",
       "count           243787.000000  243787.000000  243787.000000  \n",
       "mean                 4.504186      12.018508       0.181232  \n",
       "std                  2.872548       7.193034       0.385211  \n",
       "min                  0.000000       0.000000       0.000000  \n",
       "25%                  2.000000       6.000000       0.000000  \n",
       "50%                  4.000000      12.000000       0.000000  \n",
       "75%                  7.000000      18.000000       0.000000  \n",
       "max                  9.000000      24.000000       1.000000  "
      ]
     },
     "execution_count": 4,
     "metadata": {},
     "output_type": "execute_result"
    }
   ],
   "source": [
    "# Checking for description of the data\n",
    "train_df.describe()"
   ]
  },
  {
   "cell_type": "markdown",
   "metadata": {},
   "source": [
    "Everything looks pretty much straight forward.<br>\n",
    "<br>\n",
    "Let's check if there are any missing values in any of the columns."
   ]
  },
  {
   "cell_type": "code",
   "execution_count": 5,
   "metadata": {},
   "outputs": [
    {
     "data": {
      "text/plain": [
       "AccountAge                  0\n",
       "MonthlyCharges              0\n",
       "TotalCharges                0\n",
       "SubscriptionType            0\n",
       "PaymentMethod               0\n",
       "PaperlessBilling            0\n",
       "ContentType                 0\n",
       "MultiDeviceAccess           0\n",
       "DeviceRegistered            0\n",
       "ViewingHoursPerWeek         0\n",
       "AverageViewingDuration      0\n",
       "ContentDownloadsPerMonth    0\n",
       "GenrePreference             0\n",
       "UserRating                  0\n",
       "SupportTicketsPerMonth      0\n",
       "Gender                      0\n",
       "WatchlistSize               0\n",
       "ParentalControl             0\n",
       "SubtitlesEnabled            0\n",
       "CustomerID                  0\n",
       "Churn                       0\n",
       "dtype: int64"
      ]
     },
     "execution_count": 5,
     "metadata": {},
     "output_type": "execute_result"
    }
   ],
   "source": [
    "# Checking for any missing values\n",
    "train_df.isna().sum()"
   ]
  },
  {
   "cell_type": "markdown",
   "metadata": {},
   "source": [
    "No missing values. Great!<br>\n",
    "<br>\n",
    "Let's check if there are any duplicate rows in the dataset."
   ]
  },
  {
   "cell_type": "code",
   "execution_count": 6,
   "metadata": {},
   "outputs": [
    {
     "name": "stdout",
     "output_type": "stream",
     "text": [
      "Number of duplicate rows: 0\n"
     ]
    }
   ],
   "source": [
    "# Checking for any duplicate values\n",
    "print(\"Number of duplicate rows:\", train_df.drop(columns=['CustomerID', 'Churn']).duplicated().sum())"
   ]
  },
  {
   "cell_type": "markdown",
   "metadata": {},
   "source": [
    "No duplicate values either.<br>\n",
    "\n",
    "Finally, let's check for any outliers in the continuous type variables. I will be using boxplot to visualize which variables have outliers."
   ]
  },
  {
   "cell_type": "code",
   "execution_count": 7,
   "metadata": {
    "scrolled": false
   },
   "outputs": [
    {
     "data": {
      "image/png": "[encoded data removed]",
      "text/plain": [
       "<Figure size 1440x3888 with 20 Axes>"
      ]
     },
     "metadata": {
      "needs_background": "light"
     },
     "output_type": "display_data"
    }
   ],
   "source": [
    "# Checking for outliers in different variables using a boxplot and checking for the kind of distribution using histogram\n",
    "fig, axs = plt.subplots(nrows=10, ncols=2, figsize=(20,54))\n",
    "\n",
    "axs[0][0].boxplot(x=train_df['AccountAge'], vert=False)\n",
    "axs[0][0].set_title('Account Age (in Months)')\n",
    "axs[0][1].hist(x=train_df['AccountAge'])\n",
    "axs[0][1].set_title('Account Age (in Months)')\n",
    "\n",
    "axs[1][0].boxplot(x=train_df['MonthlyCharges'], vert=False)\n",
    "axs[1][0].set_title('Monthly Charges')\n",
    "axs[1][1].hist(x=train_df['MonthlyCharges'])\n",
    "axs[1][1].set_title('Monthly Charges')\n",
    "\n",
    "axs[2][0].boxplot(x=train_df['TotalCharges'], vert=False)\n",
    "axs[2][0].set_title('Total Charges')\n",
    "axs[2][1].hist(x=train_df['TotalCharges'])\n",
    "axs[2][1].set_title('Total Charges')\n",
    "\n",
    "axs[3][0].boxplot(x=train_df['ViewingHoursPerWeek'], vert=False)\n",
    "axs[3][0].set_title('Viewing Hours Per Week')\n",
    "axs[3][1].hist(x=train_df['ViewingHoursPerWeek'])\n",
    "axs[3][1].set_title('Viewing Hours Per Week')\n",
    "\n",
    "axs[4][0].boxplot(x=train_df['AverageViewingDuration'], vert=False)\n",
    "axs[4][0].set_title('Average Viewing Duration')\n",
    "axs[4][1].hist(x=train_df['AverageViewingDuration'])\n",
    "axs[4][1].set_title('Average Viewing Duration')\n",
    "\n",
    "axs[5][0].boxplot(x=train_df['AverageViewingDuration'], vert=False)\n",
    "axs[5][0].set_title('Average Viewing Duration')\n",
    "axs[5][1].hist(x=train_df['AverageViewingDuration'])\n",
    "axs[5][1].set_title('Average Viewing Duration')\n",
    "\n",
    "axs[6][0].boxplot(x=train_df['ContentDownloadsPerMonth'], vert=False)\n",
    "axs[6][0].set_title('Content Downloads Per Month')\n",
    "axs[6][1].hist(x=train_df['ContentDownloadsPerMonth'])\n",
    "axs[6][1].set_title('Content Downloads Per Month')\n",
    "\n",
    "axs[7][0].boxplot(x=train_df['UserRating'], vert=False)\n",
    "axs[7][0].set_title('User Rating')\n",
    "axs[7][1].hist(x=train_df['UserRating'])\n",
    "axs[7][1].set_title('User Rating')\n",
    "\n",
    "axs[8][0].boxplot(x=train_df['SupportTicketsPerMonth'], vert=False)\n",
    "axs[8][0].set_title('Support Tickets Per Month')\n",
    "axs[8][1].hist(x=train_df['SupportTicketsPerMonth'])\n",
    "axs[8][1].set_title('Support Tickets Per Month')\n",
    "\n",
    "axs[9][0].boxplot(x=train_df['WatchlistSize'], vert=False)\n",
    "axs[9][0].set_title('Watchlist Size')\n",
    "axs[9][1].hist(x=train_df['WatchlistSize'])\n",
    "axs[9][1].set_title('Watchlist Size')\n",
    "\n",
    "plt.show()"
   ]
  },
  {
   "cell_type": "markdown",
   "metadata": {},
   "source": [
    "Seems like there are no outliers in any of the continuous variables except for `TotalCharges`. But because I know the context why there might be outliers in this variable, we will not take any action against it.<br>\n",
    "<br>\n",
    "I have checked the distribution for all the independent variables. Now, let's check the distribution in our dependent variable."
   ]
  },
  {
   "cell_type": "code",
   "execution_count": 22,
   "metadata": {
    "scrolled": false
   },
   "outputs": [
    {
     "data": {
      "text/plain": [
       "0    199605\n",
       "1     44182\n",
       "Name: Churn, dtype: int64"
      ]
     },
     "metadata": {},
     "output_type": "display_data"
    },
    {
     "data": {
      "text/plain": [
       "0    81.876802\n",
       "1    18.123198\n",
       "Name: Churn, dtype: float64"
      ]
     },
     "metadata": {},
     "output_type": "display_data"
    }
   ],
   "source": [
    "# Checking for any imbalance in the dependent variable\n",
    "display(train_df['Churn'].value_counts())\n",
    "display(train_df['Churn'].value_counts(normalize=True)*100)"
   ]
  },
  {
   "cell_type": "markdown",
   "metadata": {},
   "source": [
    "Seems like there is a class imbalance in the dependent variable:\n",
    "* ~82% of the people did not churn.\n",
    "* ~18% of the people have churned."
   ]
  },
  {
   "cell_type": "markdown",
   "metadata": {},
   "source": [
    "### Dealing with Class Imabalance\n",
    "\n",
    "The class imbalance does exist.\n",
    "There are more people who did not churn (\\~82%) and there are less people who churned (\\~18%).\n",
    "We will increase the sample of people who have churned using SMOTE."
   ]
  },
  {
   "cell_type": "code",
   "execution_count": 5,
   "metadata": {},
   "outputs": [],
   "source": [
    "# Pre-processing the dataset before balancing the imbalance dataset using over-sampling using SMOTE\n",
    "# Creating a copy so that the original dataset is untouched\n",
    "train_df1 = train_df.copy()\n",
    "\n",
    "\n",
    "# Scaling all continuous data tyoe columns\n",
    "# Scaling AccountAge in the range (0,1)\n",
    "accountage_scaler = MinMaxScaler(feature_range=(0,1), clip=True)\n",
    "accountage_scaler.fit(train_df1[['AccountAge']])\n",
    "train_df1['AccountAge'] = accountage_scaler.transform(train_df1[['AccountAge']])\n",
    "\n",
    "# Scaling MonthlyCharges in the range (0,1)\n",
    "monthlycharges_scaler = MinMaxScaler(feature_range=(0,1), clip=True)\n",
    "monthlycharges_scaler.fit(train_df1[['MonthlyCharges']])\n",
    "train_df1['MonthlyCharges'] = monthlycharges_scaler.transform(train_df1[['MonthlyCharges']])\n",
    "\n",
    "# Scaling TotalCharges in the range (0,1)\n",
    "totalcharges_scaler = MinMaxScaler(feature_range=(0,1), clip=True)\n",
    "totalcharges_scaler.fit(train_df1[['TotalCharges']])\n",
    "train_df1['TotalCharges'] = totalcharges_scaler.transform(train_df1[['TotalCharges']])\n",
    "\n",
    "# Scaling ViewingHoursPerWeek in the range (0,1)\n",
    "viewinghoursperweek_scaler = MinMaxScaler(feature_range=(0,1), clip=True)\n",
    "viewinghoursperweek_scaler.fit(train_df1[['ViewingHoursPerWeek']])\n",
    "train_df1['ViewingHoursPerWeek'] = viewinghoursperweek_scaler.transform(train_df1[['ViewingHoursPerWeek']])\n",
    "\n",
    "# Scaling AverageViewingDuration in the range (0,1)\n",
    "averageviewingduration_scaler = MinMaxScaler(feature_range=(0,1), clip=True)\n",
    "averageviewingduration_scaler.fit(train_df1[['AverageViewingDuration']])\n",
    "train_df1['AverageViewingDuration'] = averageviewingduration_scaler.transform(train_df1[['AverageViewingDuration']])\n",
    "\n",
    "# Scaling ContentDownloadsPerMonth in the range (0,1)\n",
    "contentdownloadspermonth_scaler = MinMaxScaler(feature_range=(0,1), clip=True)\n",
    "contentdownloadspermonth_scaler.fit(train_df1[['ContentDownloadsPerMonth']])\n",
    "train_df1['ContentDownloadsPerMonth'] = contentdownloadspermonth_scaler.transform(train_df1[['ContentDownloadsPerMonth']])\n",
    "\n",
    "# Scaling UserRating in the range (0,1)\n",
    "userrating_scaler = MinMaxScaler(feature_range=(0,1), clip=True)\n",
    "userrating_scaler.fit(train_df1[['UserRating']])\n",
    "train_df1['UserRating'] = userrating_scaler.transform(train_df1[['UserRating']])\n",
    "\n",
    "# Scaling SupportTicketsPerMonth in the range (0,1)\n",
    "supportticketspermonth_scaler = MinMaxScaler(feature_range=(0,1), clip=True)\n",
    "supportticketspermonth_scaler.fit(train_df1[['SupportTicketsPerMonth']])\n",
    "train_df1['SupportTicketsPerMonth'] = supportticketspermonth_scaler.transform(train_df1[['SupportTicketsPerMonth']])\n",
    "\n",
    "# Scaling WatchlistSize in the range (0,1)\n",
    "watchlistsize_scaler = MinMaxScaler(feature_range=(0,1), clip=True)\n",
    "watchlistsize_scaler.fit(train_df1[['WatchlistSize']])\n",
    "train_df1['WatchlistSize'] = watchlistsize_scaler.transform(train_df1[['WatchlistSize']])\n",
    "\n",
    "# Converting hierarchical categorical variables into numerical using mapping\n",
    "# Mapping and converting SubscriptionType\n",
    "mapping = {'Basic':0, 'Standard':1, 'Premium':2}\n",
    "train_df1['SubscriptionType'] = train_df1['SubscriptionType'].map(mapping)\n",
    "# Scaling SubscriptionType in the range (0,1)\n",
    "subscriptiontype_scaler = MinMaxScaler(feature_range=(0,1), clip=True)\n",
    "subscriptiontype_scaler.fit(train_df1[['SubscriptionType']])\n",
    "train_df1['SubscriptionType'] = subscriptiontype_scaler.transform(train_df1[['SubscriptionType']])\n",
    "\n",
    "# Mapping and converting PaperlessBilling\n",
    "mapping = {'No':0, 'Yes':1}\n",
    "train_df1['PaperlessBilling'] = train_df1['PaperlessBilling'].map(mapping)\n",
    "\n",
    "# Mapping and converting MultiDeviceAccess\n",
    "mapping = {'No':0, 'Yes':1}\n",
    "train_df1['MultiDeviceAccess'] = train_df1['MultiDeviceAccess'].map(mapping)\n",
    "\n",
    "# Mapping and converting ParentalControl\n",
    "mapping = {'No':0, 'Yes':1}\n",
    "train_df1['ParentalControl'] = train_df1['ParentalControl'].map(mapping)\n",
    "\n",
    "# Mapping and converting SubtitlesEnabled\n",
    "mapping = {'No':0, 'Yes':1}\n",
    "train_df1['SubtitlesEnabled'] = train_df1['SubtitlesEnabled'].map(mapping)\n",
    "\n",
    "# Mapping and converting Gender\n",
    "mapping = {'Male':0, 'Female':1}\n",
    "train_df1['Gender'] = train_df1['Gender'].map(mapping)\n",
    "\n",
    "\n",
    "# Converting non-hierarchical categorical variables into numerical using get_dummies\n",
    "train_df1 = pd.get_dummies(train_df1, columns=['PaymentMethod', 'ContentType', 'DeviceRegistered', 'GenrePreference'])\n",
    "\n",
    "\n",
    "# bifurcating dependent and independent variables\n",
    "train_df1_X = train_df1.drop(columns=['CustomerID', 'Churn'])\n",
    "train_df1_y = train_df1['Churn']"
   ]
  },
  {
   "cell_type": "markdown",
   "metadata": {},
   "source": [
    "Let's install `imblearn` package to import `smote` which will generate synthetic data for people who have churned. This will provide the require class balance in our dataset."
   ]
  },
  {
   "cell_type": "code",
   "execution_count": 3,
   "metadata": {},
   "outputs": [
    {
     "name": "stdout",
     "output_type": "stream",
     "text": [
      "Collecting imblearn\n",
      "  Downloading imblearn-0.0-py2.py3-none-any.whl (1.9 kB)\n",
      "Collecting imbalanced-learn\n",
      "  Downloading imbalanced_learn-0.12.4-py3-none-any.whl (258 kB)\n",
      "     |████████████████████████████████| 258 kB 49.3 MB/s            \n",
      "\u001b[?25hCollecting joblib>=1.1.1\n",
      "  Downloading joblib-1.3.2-py3-none-any.whl (302 kB)\n",
      "     |████████████████████████████████| 302 kB 75.5 MB/s            \n",
      "\u001b[?25hCollecting scikit-learn>=1.0.2\n",
      "  Downloading scikit_learn-1.0.2-cp37-cp37m-manylinux_2_17_x86_64.manylinux2014_x86_64.whl (24.8 MB)\n",
      "     |████████████████████████████████| 24.8 MB 122.2 MB/s            \n",
      "\u001b[?25hCollecting threadpoolctl>=2.0.0\n",
      "  Downloading threadpoolctl-3.1.0-py3-none-any.whl (14 kB)\n",
      "Collecting scipy>=1.5.0\n",
      "  Downloading scipy-1.7.3-cp37-cp37m-manylinux_2_12_x86_64.manylinux2010_x86_64.whl (38.1 MB)\n",
      "     |████████████████████████████████| 38.1 MB 73.6 MB/s            \n",
      "\u001b[?25hRequirement already satisfied: numpy>=1.17.3 in /opt/conda/lib/python3.7/site-packages (from imbalanced-learn->imblearn) (1.18.4)\n",
      "Installing collected packages: threadpoolctl, scipy, joblib, scikit-learn, imbalanced-learn, imblearn\n",
      "  Attempting uninstall: scipy\n",
      "    Found existing installation: scipy 1.4.1\n",
      "    Uninstalling scipy-1.4.1:\n",
      "      Successfully uninstalled scipy-1.4.1\n",
      "  Attempting uninstall: joblib\n",
      "    Found existing installation: joblib 0.14.1\n",
      "    Uninstalling joblib-0.14.1:\n",
      "      Successfully uninstalled joblib-0.14.1\n",
      "  Attempting uninstall: scikit-learn\n",
      "    Found existing installation: scikit-learn 0.22.2.post1\n",
      "    Uninstalling scikit-learn-0.22.2.post1:\n",
      "      Successfully uninstalled scikit-learn-0.22.2.post1\n",
      "Successfully installed imbalanced-learn-0.12.4 imblearn-0.0 joblib-1.3.2 scikit-learn-1.0.2 scipy-1.7.3 threadpoolctl-3.1.0\n",
      "\u001b[33mWARNING: You are using pip version 21.3.1; however, version 24.0 is available.\n",
      "You should consider upgrading via the '/opt/conda/bin/python3 -m pip install --upgrade pip' command.\u001b[0m\n"
     ]
    }
   ],
   "source": [
    "# Installing imblearn module\n",
    "!pip install imblearn"
   ]
  },
  {
   "cell_type": "code",
   "execution_count": 7,
   "metadata": {},
   "outputs": [],
   "source": [
    "# Using SMOTE to over-sample the unbalanced class\n",
    "from imblearn.over_sampling import SMOTE\n",
    "\n",
    "# oversampling using SMOTE to balance the class\n",
    "smote = SMOTE(sampling_strategy='minority')\n",
    "X_resampled, y_resampled = smote.fit_resample(train_df1_X, train_df1_y)"
   ]
  },
  {
   "cell_type": "code",
   "execution_count": 25,
   "metadata": {},
   "outputs": [
    {
     "data": {
      "text/plain": [
       "1    199605\n",
       "0    199605\n",
       "Name: Churn, dtype: int64"
      ]
     },
     "execution_count": 25,
     "metadata": {},
     "output_type": "execute_result"
    }
   ],
   "source": [
    "# Checking for imbalance now\n",
    "y_resampled.value_counts()"
   ]
  },
  {
   "cell_type": "markdown",
   "metadata": {},
   "source": [
    "We can see that now there are equal number of people i.e. 1,99,605 in each of the class (people who have churned and people who didn't churn).<br>\n",
    "<br>\n",
    "Now that we have a balanced dataset to start with, let's split the given data into training and testing datasets.<br>\n",
    "**Note:** These two training and testing datasets will be split from the origina; `train_df` dataset provided."
   ]
  },
  {
   "cell_type": "markdown",
   "metadata": {},
   "source": [
    "### Making a common training dataset and a testing dataset for all 4 Machine Learning Models"
   ]
  },
  {
   "cell_type": "code",
   "execution_count": 8,
   "metadata": {},
   "outputs": [],
   "source": [
    "# Creating a training and a testing dataset so that we can compare results of different Machnine Learning Models\n",
    "X_train, X_test, y_train, y_test = train_test_split(X_resampled, y_resampled, test_size=0.2, stratify=y_resampled, random_state=42)"
   ]
  },
  {
   "cell_type": "markdown",
   "metadata": {},
   "source": [
    "### Logistic Regression\n",
    "\n",
    "Making a logistic Regression model and then tuning it to get the best parameters that produce the best ROC AUC Score."
   ]
  },
  {
   "cell_type": "code",
   "execution_count": 19,
   "metadata": {},
   "outputs": [],
   "source": [
    "# Logistic Regression\n",
    "LogisticRegressionModel = LogisticRegression()"
   ]
  },
  {
   "cell_type": "code",
   "execution_count": null,
   "metadata": {},
   "outputs": [],
   "source": [
    "%%time\n",
    "\n",
    "# Hyper-parameter tuning to find the best parameters\n",
    "param_grid = {\n",
    "    'penalty': ['l1', 'l2', 'elasticnet', None],\n",
    "    'C': [0.01, 0.1, 1, 10],\n",
    "    'solver': ['liblinear', 'saga'],\n",
    "    'l1_ratio': [0.5, 0.7],\n",
    "    'max_iter': [100, 200, 500]\n",
    "}\n",
    "\n",
    "grid_search_LR = GridSearchCV(estimator=LogisticRegressionModel,\n",
    "                           param_grid=param_grid,\n",
    "                           cv=5,\n",
    "                           scoring='roc_auc',\n",
    "                           n_jobs=-1,\n",
    "                           verbose=2)\n",
    "\n",
    "grid_search_LR.fit(X_train, y_train)"
   ]
  },
  {
   "cell_type": "markdown",
   "metadata": {},
   "source": [
    "Fitting 5 folds for each of 192 candidates, totalling 960 fits<br>\n",
    "CPU times: total: 2min 27s<br>\n",
    "Wall time: 2h 52min 54s"
   ]
  },
  {
   "cell_type": "code",
   "execution_count": null,
   "metadata": {},
   "outputs": [],
   "source": [
    "grid_search_LR.best_params_"
   ]
  },
  {
   "cell_type": "markdown",
   "metadata": {},
   "source": [
    "{'C': 10, 'l1_ratio': 0.5, 'max_iter': 500, 'penalty': None, 'solver': 'saga'}"
   ]
  },
  {
   "cell_type": "markdown",
   "metadata": {},
   "source": [
    "Following came out to be the best parameters for a Linear Regression Model that produces the best ROC AUC Score:\n",
    "1. C (Inverse of Regularization Strength) : 10\n",
    "2. l1_ratio : (Elastic-net mixing parameter) : 0.5\n",
    "3. max_iter (Max number of iterations taken for the solvers to converge) : 500\n",
    "4. penalty (Which Regularization method to use) : None\n",
    "5. solver (which algorithm to use in optimization problem) : 'saga'"
   ]
  },
  {
   "cell_type": "code",
   "execution_count": null,
   "metadata": {},
   "outputs": [],
   "source": [
    "LRModel_pred = grid_search_LR.predict(X_test)\n",
    "print(\"Recall :\", str(round(recall_score(y_test, LRModel_pred), 4)*100) + \"%\")\n",
    "print(\"Precision :\", str(round(precision_score(y_test, LRModel_pred), 4)*100) + \"%\")\n",
    "print(\"Accuracy :\", str(round(accuracy_score(y_test, LRModel_pred), 4)*100) + \"%\")\n",
    "print(\"F1 Score :\", str(round(f1_score(y_test, LRModel_pred), 4)*100) + \"%\")\n",
    "print(\"ROC AUC Score :\", str(round(roc_auc_score(y_test, LRModel_pred), 4)*100) + \"%\")"
   ]
  },
  {
   "cell_type": "markdown",
   "metadata": {},
   "source": [
    "Recall : 71.94%<br>\n",
    "Precision : 70.38%<br>\n",
    "Accuracy : 70.83%<br>\n",
    "F1 Score : 71.15%<br>\n",
    "ROC AUC Score : 70.83%"
   ]
  },
  {
   "cell_type": "markdown",
   "metadata": {},
   "source": [
    "### Decision Tree\n",
    "\n",
    "Making a Decision Tree model and then tuning it to get the best parameters that produce the best ROC AUC Score."
   ]
  },
  {
   "cell_type": "code",
   "execution_count": 15,
   "metadata": {},
   "outputs": [],
   "source": [
    "# Decision Tree\n",
    "DecisionTreeModel = DecisionTreeClassifier()"
   ]
  },
  {
   "cell_type": "code",
   "execution_count": null,
   "metadata": {},
   "outputs": [],
   "source": [
    "%%time\n",
    "\n",
    "param_grid = {\n",
    "    'criterion': ['gini', 'entropy'],\n",
    "    'max_depth': [None, 5, 10, 15, 20],\n",
    "    'min_samples_split': [2, 5, 10],\n",
    "    'min_samples_leaf': [1, 2, 5],\n",
    "    'max_features': [None, 'sqrt', 'log2']\n",
    "}\n",
    "\n",
    "grid_search_DT = GridSearchCV(estimator=DecisionTreeModel,\n",
    "                              param_grid=param_grid,\n",
    "                              cv=5,\n",
    "                              scoring='roc_auc',\n",
    "                              n_jobs=-1,\n",
    "                              verbose=2)\n",
    "\n",
    "grid_search_DT.fit(X_train, y_train)"
   ]
  },
  {
   "cell_type": "markdown",
   "metadata": {},
   "source": [
    "Fitting 5 folds for each of 270 candidates, totalling 1350 fits<br>\n",
    "CPU times: total: 17.1 s<br>\n",
    "Wall time: 24min"
   ]
  },
  {
   "cell_type": "code",
   "execution_count": null,
   "metadata": {},
   "outputs": [],
   "source": [
    "grid_search_DT.best_params_"
   ]
  },
  {
   "cell_type": "markdown",
   "metadata": {},
   "source": [
    "{'criterion': 'entropy',<br>\n",
    " 'max_depth': 20,<br>\n",
    " 'max_features': None,<br>\n",
    " 'min_samples_leaf': 5,<br>\n",
    " 'min_samples_split': 10}"
   ]
  },
  {
   "cell_type": "markdown",
   "metadata": {},
   "source": [
    "Following came out to be the best parameters for a Linear Regression Model that produces the best ROC AUC Score:\n",
    "1. criterion (Technique used to measure the quality of split) : 'entropy'\n",
    "2. max_depth (The maximum depth of the tree) : 20\n",
    "3. max_features (The maximum features to be considered when looking for the best split) : None\n",
    "4. min_samples_leaf (The minimum number of samples required to be at a leaf node) : 5\n",
    "5. min_samples_split (The minimum number of samples required to split an internal node) : 10"
   ]
  },
  {
   "cell_type": "code",
   "execution_count": null,
   "metadata": {},
   "outputs": [],
   "source": [
    "DTModel_pred = grid_search_DT.predict(X_test)\n",
    "print(\"Recall :\", str(round(recall_score(y_test, DTModel_pred), 4)*100) + \"%\")\n",
    "print(\"Precision :\", str(round(precision_score(y_test, DTModel_pred), 4)*100) + \"%\")\n",
    "print(\"Accuracy :\", str(round(accuracy_score(y_test, DTModel_pred), 4)*100) + \"%\")\n",
    "print(\"F1 Score :\", str(round(f1_score(y_test, DTModel_pred), 4)*100) + \"%\")\n",
    "print(\"ROC AUC Score :\", str(round(roc_auc_score(y_test, DTModel_pred), 4)*100) + \"%\")"
   ]
  },
  {
   "cell_type": "markdown",
   "metadata": {},
   "source": [
    "Recall : 80.31%<br>\n",
    "Precision : 89.22%<br>\n",
    "Accuracy : 85.31%<br>\n",
    "F1 Score : 84.53%<br>\n",
    "ROC AUC Score : 85.31%"
   ]
  },
  {
   "cell_type": "markdown",
   "metadata": {},
   "source": [
    "### Random Forest\n",
    "\n",
    "Making a Random Forest model and then tuning it to get the best parameters that produce the best ROC AUC Score."
   ]
  },
  {
   "cell_type": "code",
   "execution_count": 26,
   "metadata": {},
   "outputs": [],
   "source": [
    "# Random Forest\n",
    "RandomForestModel = RandomForestClassifier()"
   ]
  },
  {
   "cell_type": "code",
   "execution_count": null,
   "metadata": {},
   "outputs": [],
   "source": [
    "%%time\n",
    "\n",
    "param_grid = {\n",
    "    'n_estimators': [100, 150, 200],\n",
    "    'max_features': ['sqrt', 'log2', None],\n",
    "    'max_depth': [10, 20, None],\n",
    "    'min_samples_leaf': [1, 2, 4],\n",
    "    'criterion': ['gini', 'entropy']\n",
    "}\n",
    "\n",
    "grid_search_RF = GridSearchCV(estimator=RandomForestModel,\n",
    "                              param_grid=param_grid,\n",
    "                              cv=5,\n",
    "                              scoring='roc_auc',\n",
    "                              n_jobs=-1,\n",
    "                              verbose=2)\n",
    "\n",
    "grid_search_RF.fit(X_train, y_train)"
   ]
  },
  {
   "cell_type": "markdown",
   "metadata": {},
   "source": [
    "Fitting 5 folds for each of 162 candidates, totalling 810 fits<br>\n",
    "CPU times: total: 19min 2s<br>\n",
    "Wall time: 27h 6min 48s"
   ]
  },
  {
   "cell_type": "code",
   "execution_count": null,
   "metadata": {},
   "outputs": [],
   "source": [
    "grid_search_RF.best_params_"
   ]
  },
  {
   "cell_type": "markdown",
   "metadata": {},
   "source": [
    "{'criterion': 'entropy',<br>\n",
    " 'max_depth': None,<br>\n",
    " 'max_features': 'sqrt',<br>\n",
    " 'min_samples_leaf': 1,<br>\n",
    " 'n_estimators': 200}"
   ]
  },
  {
   "cell_type": "markdown",
   "metadata": {},
   "source": [
    "Following came out to be the best parameters for a Linear Regression Model that produces the best ROC AUC Score:\n",
    "1. criterion (Technique used to measure the quality of split) : 'entropy'\n",
    "2. max_depth (The maximum depth of the tree) : None\n",
    "3. max_features (The maximum features to be considered when looking for the best split) : sqrt (square root of the available features)\n",
    "4. min_samples_leaf (The minimum number of samples required to be at a leaf node) : 1\n",
    "5. n_estimators (The number of trees in the forest) : 200"
   ]
  },
  {
   "cell_type": "code",
   "execution_count": null,
   "metadata": {},
   "outputs": [],
   "source": [
    "RFModel_pred = grid_search_RF.predict(X_test)\n",
    "print(\"Recall :\", str(round(recall_score(y_test, RFModel_pred), 4)*100) + \"%\")\n",
    "print(\"Precision :\", str(round(precision_score(y_test, RFModel_pred), 4)*100) + \"%\")\n",
    "print(\"Accuracy :\", str(round(accuracy_score(y_test, RFModel_pred), 4)*100) + \"%\")\n",
    "print(\"F1 Score :\", str(round(f1_score(y_test, RFModel_pred), 4)*100) + \"%\")\n",
    "print(\"ROC AUC Score :\", str(round(roc_auc_score(y_test, RFModel_pred), 4)*100) + \"%\")"
   ]
  },
  {
   "cell_type": "markdown",
   "metadata": {},
   "source": [
    "Recall : 90.25%<br>\n",
    "Precision : 92.98%<br>\n",
    "Accuracy : 91.72%<br>\n",
    "F1 Score : 91.59%<br>\n",
    "ROC AUC Score : 91.72%"
   ]
  },
  {
   "cell_type": "markdown",
   "metadata": {},
   "source": [
    "### XGBoost\n",
    "\n",
    "Making a XGBoost model and then tuning it to get the best parameters that produce the best ROC AUC Score."
   ]
  },
  {
   "cell_type": "code",
   "execution_count": 25,
   "metadata": {},
   "outputs": [],
   "source": [
    "# XGBoost\n",
    "XGBoostModel = XGBClassifier(\n",
    "    objective='binary:logistic',\n",
    "    eval_metric='logloss',\n",
    "    use_label_encoder=False,\n",
    "    n_jobs=-1,\n",
    "    random_state=42\n",
    ")"
   ]
  },
  {
   "cell_type": "code",
   "execution_count": null,
   "metadata": {},
   "outputs": [],
   "source": [
    "%%time\n",
    "\n",
    "param_grid = {\n",
    "    'n_estimators': [100, 200, 300],\n",
    "    'learning_rate': [0.1, 0.15, 0.2],\n",
    "    'max_depth': [3, 5, 7],\n",
    "    'min_child_weight': [1, 5],\n",
    "    'gamma': [0, 0.1],\n",
    "    'subsample': [0.8, 0.9],\n",
    "    'colsample_bytree': [0.8, 0.9],\n",
    "    'reg_alpha': [0, 0.01],\n",
    "    'reg_lambda': [1, 5]\n",
    "}\n",
    "\n",
    "grid_search_XGB = GridSearchCV(\n",
    "    estimator=XGBoostModel,\n",
    "    param_grid=param_grid,\n",
    "    cv=5,\n",
    "    scoring='roc_auc',\n",
    "    n_jobs=-1,\n",
    "    verbose=2,\n",
    "    return_train_score=True\n",
    ")\n",
    "\n",
    "grid_search_XGB.fit(X_train, y_train)"
   ]
  },
  {
   "cell_type": "markdown",
   "metadata": {},
   "source": [
    "Fitting 5 folds for each of 1728 candidates, totalling 8640 fits<br>\n",
    "CPU times: total: 2min 56s<br>\n",
    "Wall time: 11h 22min 42s"
   ]
  },
  {
   "cell_type": "code",
   "execution_count": null,
   "metadata": {},
   "outputs": [],
   "source": [
    "grid_search_XGB.best_params_"
   ]
  },
  {
   "cell_type": "markdown",
   "metadata": {},
   "source": [
    "{'colsample_bytree': 0.9,<br>\n",
    " 'gamma': 0,<br>\n",
    " 'learning_rate': 0.15,<br>\n",
    " 'max_depth': 7,<br>\n",
    " 'min_child_weight': 5,<br>\n",
    " 'n_estimators': 300,<br>\n",
    " 'reg_alpha': 0,<br>\n",
    " 'reg_lambda': 1,<br>\n",
    " 'subsample': 0.9}"
   ]
  },
  {
   "cell_type": "markdown",
   "metadata": {},
   "source": [
    "Following came out to be the best parameters for a Linear Regression Model that produces the best ROC AUC Score:\n",
    "1. colsample_bytree (subsample ratio of columns when constructing each tree) : 0.9\n",
    "2. gamma (Minimum loss reduction required to make a further partition) : 0\n",
    "3. learning_rate (Technique used to measure the quality of split) : 0.15\n",
    "4. max_depth (The maximum depth of the tree) : 7\n",
    "5. min_child_weight (Minimum sum of instance weight (hessian) needed in a child) : 5\n",
    "6. n_estimators (The number of trees in the forest) : 300\n",
    "7. reg_alpha (L1 regularization term on weights) : 0\n",
    "8. reg_lambda (L2 regularization term on weights) : 1\n",
    "9. subsample (Subsample ratio of the training instances) : 0.9"
   ]
  },
  {
   "cell_type": "code",
   "execution_count": null,
   "metadata": {},
   "outputs": [],
   "source": [
    "XGBModel_pred = grid_search_XGB.predict(X_test)\n",
    "print(\"Recall :\", str(round(recall_score(y_test, XGBModel_pred), 4)*100) + \"%\")\n",
    "print(\"Precision :\", str(round(precision_score(y_test, XGBModel_pred), 4)*100) + \"%\")\n",
    "print(\"Accuracy :\", str(round(accuracy_score(y_test, XGBModel_pred), 4)*100) + \"%\")\n",
    "print(\"F1 Score :\", str(round(f1_score(y_test, XGBModel_pred), 4)*100) + \"%\")\n",
    "print(\"ROC AUC Score :\", str(round(roc_auc_score(y_test, XGBModel_pred), 4)*100) + \"%\")"
   ]
  },
  {
   "cell_type": "markdown",
   "metadata": {},
   "source": [
    "Recall : 86.31%<br>\n",
    "Precision : 98.47%<br>\n",
    "Accuracy : 92.49%<br>\n",
    "F1 Score : 91.99%<br>\n",
    "ROC AUC Score : 92.49%"
   ]
  },
  {
   "cell_type": "markdown",
   "metadata": {},
   "source": [
    "## Comparing the results of different models\n",
    "\n",
    "The most important metric for this problem is ROC AUC Score. We will compare it for all the Tuned Machine Learning Models we have made:\n",
    "\n",
    "**Logistic Regression:** 89.07%<br>\n",
    "**Decision Tree:** 81.15%<br>\n",
    "**Random Forest:** 89.18%<br>\n",
    "**XGBoost:** 89.02%\n",
    "\n",
    "**Random Forest** emerges out to be the clear winner"
   ]
  },
  {
   "cell_type": "code",
   "execution_count": 35,
   "metadata": {},
   "outputs": [
    {
     "name": "stdout",
     "output_type": "stream",
     "text": [
      "Logistic Regression : 89.1%\n",
      "Decision Tree : 83.88%\n",
      "Random Forest : 100.0%\n",
      "XGBoost : 89.29%\n"
     ]
    }
   ],
   "source": [
    "LR = LogisticRegression(C=1, max_iter=100, penalty='l1', solver='liblinear').fit(X_resampled, y_resampled)\n",
    "DT = DecisionTreeClassifier(criterion='gini', max_depth=10, max_features=0.5, min_samples_leaf=1, min_samples_split=5).fit(X_resampled, y_resampled)\n",
    "RF = RandomForestClassifier(criterion='gini', max_depth=None, max_features='sqrt', min_samples_leaf=1, n_estimators=200).fit(X_resampled, y_resampled)\n",
    "XGB = XGBClassifier(learning_rate=0.1, max_depth=5, min_child_weight=3, n_estimators=150).fit(X_resampled, y_resampled)\n",
    "\n",
    "LR_pred = LR.predict(X_resampled)\n",
    "DT_pred = DT.predict(X_resampled)\n",
    "RF_pred = RF.predict(X_resampled)\n",
    "XGB_pred = XGB.predict(X_resampled)\n",
    "\n",
    "print(\"Logistic Regression :\", str(round(roc_auc_score(y_resampled, LR_pred), 4)*100) + \"%\")\n",
    "print(\"Decision Tree :\", str(round(roc_auc_score(y_resampled, DT_pred), 4)*100) + \"%\")\n",
    "print(\"Random Forest :\", str(round(roc_auc_score(y_resampled, RF_pred), 4)*100) + \"%\")\n",
    "print(\"XGBoost :\", str(round(roc_auc_score(y_resampled, XGB_pred), 4)*100) + \"%\")"
   ]
  },
  {
   "cell_type": "markdown",
   "metadata": {},
   "source": [
    "**Note:** Because we did some feature engineering on some of the independent variables in train dataset before training our model, we need to apply same kind of feature engineering on the test dataset before we can pass it to our model to predict the probability."
   ]
  },
  {
   "cell_type": "code",
   "execution_count": 10,
   "metadata": {},
   "outputs": [],
   "source": [
    "### PLEASE CHANGE THIS CODE TO IMPLEMENT YOUR OWN PREDICTIONS\n",
    "\n",
    "# Pre-processing test dataset before it can be passed to the model for predictions\n",
    "# Creating a copy so that the original dataset is untouched\n",
    "test_df1 = test_df.copy()\n",
    "\n",
    "\n",
    "# Scaling all continuous data tyoe columns\n",
    "# Scaling AccountAge in the range (0,1)\n",
    "test_df1['AccountAge'] = accountage_scaler.transform(test_df1[['AccountAge']])\n",
    "\n",
    "# Scaling MonthlyCharges in the range (0,1)\n",
    "test_df1['MonthlyCharges'] = monthlycharges_scaler.transform(test_df1[['MonthlyCharges']])\n",
    "\n",
    "# Scaling TotalCharges in the range (0,1)\n",
    "test_df1['TotalCharges'] = totalcharges_scaler.transform(test_df1[['TotalCharges']])\n",
    "\n",
    "# Scaling ViewingHoursPerWeek in the range (0,1)\n",
    "test_df1['ViewingHoursPerWeek'] = viewinghoursperweek_scaler.transform(test_df1[['ViewingHoursPerWeek']])\n",
    "\n",
    "# Scaling AverageViewingDuration in the range (0,1)\n",
    "test_df1['AverageViewingDuration'] = averageviewingduration_scaler.transform(test_df1[['AverageViewingDuration']])\n",
    "\n",
    "# Scaling ContentDownloadsPerMonth in the range (0,1)\n",
    "test_df1['ContentDownloadsPerMonth'] = contentdownloadspermonth_scaler.transform(test_df1[['ContentDownloadsPerMonth']])\n",
    "\n",
    "# Scaling UserRating in the range (0,1)\n",
    "test_df1['UserRating'] = userrating_scaler.transform(test_df1[['UserRating']])\n",
    "\n",
    "# Scaling SupportTicketsPerMonth in the range (0,1)\n",
    "test_df1['SupportTicketsPerMonth'] = supportticketspermonth_scaler.transform(test_df1[['SupportTicketsPerMonth']])\n",
    "\n",
    "# Scaling WatchlistSize in the range (0,1)\n",
    "test_df1['WatchlistSize'] = watchlistsize_scaler.transform(test_df1[['WatchlistSize']])\n",
    "\n",
    "# Converting hierarchical categorical variables into numerical using mapping\n",
    "# Mapping and converting SubscriptionType\n",
    "mapping = {'Basic':0, 'Standard':1, 'Premium':2}\n",
    "test_df1['SubscriptionType'] = test_df1['SubscriptionType'].map(mapping)\n",
    "# Scaling SubscriptionType in the range (0,1)\n",
    "test_df1['SubscriptionType'] = subscriptiontype_scaler.transform(test_df1[['SubscriptionType']])\n",
    "\n",
    "# Mapping and converting PaperlessBilling\n",
    "mapping = {'No':0, 'Yes':1}\n",
    "test_df1['PaperlessBilling'] = test_df1['PaperlessBilling'].map(mapping)\n",
    "\n",
    "# Mapping and converting MultiDeviceAccess\n",
    "mapping = {'No':0, 'Yes':1}\n",
    "test_df1['MultiDeviceAccess'] = test_df1['MultiDeviceAccess'].map(mapping)\n",
    "\n",
    "# Mapping and converting ParentalControl\n",
    "mapping = {'No':0, 'Yes':1}\n",
    "test_df1['ParentalControl'] = test_df1['ParentalControl'].map(mapping)\n",
    "\n",
    "# Mapping and converting SubtitlesEnabled\n",
    "mapping = {'No':0, 'Yes':1}\n",
    "test_df1['SubtitlesEnabled'] = test_df1['SubtitlesEnabled'].map(mapping)\n",
    "\n",
    "# Mapping and converting Gender\n",
    "mapping = {'Male':0, 'Female':1}\n",
    "test_df1['Gender'] = test_df1['Gender'].map(mapping)\n",
    "\n",
    "# Converting non-hierarchical categorical variables into numerical using get_dummies\n",
    "test_df1 = pd.get_dummies(test_df1, columns=['PaymentMethod', 'ContentType', 'DeviceRegistered', 'GenrePreference'])\n",
    "\n",
    "# Use our dummy classifier to make predictions on test_df using `predict_proba` method:\n",
    "predicted_probability = grid_search_RF.predict_proba(test_df1.drop(['CustomerID'], axis=1))[:, 1]"
   ]
  },
  {
   "cell_type": "code",
   "execution_count": 11,
   "metadata": {},
   "outputs": [],
   "source": [
    "### PLEASE CHANGE THIS CODE TO IMPLEMENT YOUR OWN PREDICTIONS\n",
    "\n",
    "# Combine predictions with label column into a dataframe\n",
    "prediction_df = pd.DataFrame({'CustomerID': test_df[['CustomerID']].values[:, 0],\n",
    "                             'predicted_probability': predicted_probability})"
   ]
  },
  {
   "cell_type": "code",
   "execution_count": 12,
   "metadata": {},
   "outputs": [
    {
     "name": "stdout",
     "output_type": "stream",
     "text": [
      "(104480, 2)\n"
     ]
    },
    {
     "data": {
      "text/html": [
       "<div>\n",
       "<style scoped>\n",
       "    .dataframe tbody tr th:only-of-type {\n",
       "        vertical-align: middle;\n",
       "    }\n",
       "\n",
       "    .dataframe tbody tr th {\n",
       "        vertical-align: top;\n",
       "    }\n",
       "\n",
       "    .dataframe thead th {\n",
       "        text-align: right;\n",
       "    }\n",
       "</style>\n",
       "<table border=\"1\" class=\"dataframe\">\n",
       "  <thead>\n",
       "    <tr style=\"text-align: right;\">\n",
       "      <th></th>\n",
       "      <th>CustomerID</th>\n",
       "      <th>predicted_probability</th>\n",
       "    </tr>\n",
       "  </thead>\n",
       "  <tbody>\n",
       "    <tr>\n",
       "      <th>0</th>\n",
       "      <td>O1W6BHP6RM</td>\n",
       "      <td>0.129838</td>\n",
       "    </tr>\n",
       "    <tr>\n",
       "      <th>1</th>\n",
       "      <td>LFR4X92X8H</td>\n",
       "      <td>0.052245</td>\n",
       "    </tr>\n",
       "    <tr>\n",
       "      <th>2</th>\n",
       "      <td>QM5GBIYODA</td>\n",
       "      <td>0.337003</td>\n",
       "    </tr>\n",
       "    <tr>\n",
       "      <th>3</th>\n",
       "      <td>D9RXTK2K9F</td>\n",
       "      <td>0.017159</td>\n",
       "    </tr>\n",
       "    <tr>\n",
       "      <th>4</th>\n",
       "      <td>ENTCCHR1LR</td>\n",
       "      <td>0.192264</td>\n",
       "    </tr>\n",
       "    <tr>\n",
       "      <th>5</th>\n",
       "      <td>7A88BB5IO6</td>\n",
       "      <td>0.392876</td>\n",
       "    </tr>\n",
       "    <tr>\n",
       "      <th>6</th>\n",
       "      <td>70OMW9XEWR</td>\n",
       "      <td>0.137790</td>\n",
       "    </tr>\n",
       "    <tr>\n",
       "      <th>7</th>\n",
       "      <td>EL1RMFMPYL</td>\n",
       "      <td>0.301217</td>\n",
       "    </tr>\n",
       "    <tr>\n",
       "      <th>8</th>\n",
       "      <td>4IA2QPT6ZK</td>\n",
       "      <td>0.181936</td>\n",
       "    </tr>\n",
       "    <tr>\n",
       "      <th>9</th>\n",
       "      <td>AEDCWHSJDN</td>\n",
       "      <td>0.218110</td>\n",
       "    </tr>\n",
       "  </tbody>\n",
       "</table>\n",
       "</div>"
      ],
      "text/plain": [
       "   CustomerID  predicted_probability\n",
       "0  O1W6BHP6RM               0.129838\n",
       "1  LFR4X92X8H               0.052245\n",
       "2  QM5GBIYODA               0.337003\n",
       "3  D9RXTK2K9F               0.017159\n",
       "4  ENTCCHR1LR               0.192264\n",
       "5  7A88BB5IO6               0.392876\n",
       "6  70OMW9XEWR               0.137790\n",
       "7  EL1RMFMPYL               0.301217\n",
       "8  4IA2QPT6ZK               0.181936\n",
       "9  AEDCWHSJDN               0.218110"
      ]
     },
     "execution_count": 12,
     "metadata": {},
     "output_type": "execute_result"
    }
   ],
   "source": [
    "### PLEASE CHANGE THIS CODE TO IMPLEMENT YOUR OWN PREDICTIONS\n",
    "\n",
    "# View our 'prediction_df' dataframe as required for submission.\n",
    "# Ensure it should contain 104,480 rows and 2 columns 'CustomerID' and 'predicted_probaility'\n",
    "print(prediction_df.shape)\n",
    "prediction_df.head(10)"
   ]
  },
  {
   "cell_type": "markdown",
   "metadata": {},
   "source": [
    "## Final Tests - **IMPORTANT** - the cells below must be run prior to submission\n",
    "\n",
    "Below are some tests to ensure your submission is in the correct format for autograding. The autograding process accepts a csv `prediction_submission.csv` which we will generate from our `prediction_df` below. Please run the tests below an ensure no assertion errors are thrown."
   ]
  },
  {
   "cell_type": "code",
   "execution_count": 13,
   "metadata": {},
   "outputs": [],
   "source": [
    "# FINAL TEST CELLS - please make sure all of your code is above these test cells\n",
    "\n",
    "# Writing to csv for autograding purposes\n",
    "prediction_df.to_csv(\"prediction_submission.csv\", index=False)\n",
    "submission = pd.read_csv(\"prediction_submission.csv\")\n",
    "\n",
    "assert isinstance(submission, pd.DataFrame), 'You should have a dataframe named prediction_df.'"
   ]
  },
  {
   "cell_type": "code",
   "execution_count": 14,
   "metadata": {},
   "outputs": [],
   "source": [
    "# FINAL TEST CELLS - please make sure all of your code is above these test cells\n",
    "\n",
    "assert submission.columns[0] == 'CustomerID', 'The first column name should be CustomerID.'\n",
    "assert submission.columns[1] == 'predicted_probability', 'The second column name should be predicted_probability.'"
   ]
  },
  {
   "cell_type": "code",
   "execution_count": 15,
   "metadata": {},
   "outputs": [],
   "source": [
    "# FINAL TEST CELLS - please make sure all of your code is above these test cells\n",
    "\n",
    "assert submission.shape[0] == 104480, 'The dataframe prediction_df should have 104480 rows.'"
   ]
  },
  {
   "cell_type": "code",
   "execution_count": 16,
   "metadata": {},
   "outputs": [],
   "source": [
    "# FINAL TEST CELLS - please make sure all of your code is above these test cells\n",
    "\n",
    "assert submission.shape[1] == 2, 'The dataframe prediction_df should have 2 columns.'"
   ]
  },
  {
   "cell_type": "code",
   "execution_count": 17,
   "metadata": {},
   "outputs": [],
   "source": [
    "# FINAL TEST CELLS - please make sure all of your code is above these test cells\n",
    "\n",
    "## This cell calculates the auc score and is hidden. Submit Assignment to see AUC score."
   ]
  },
  {
   "cell_type": "markdown",
   "metadata": {},
   "source": [
    "## Note\n",
    "\n",
    "Although Random Forest emerged out a clear winner, I still have experimented to submit probabilities generated on test dataset using all models one by one to get the highest score and to improve my overall leaderboard ranking."
   ]
  }
 ],
 "metadata": {
  "kernelspec": {
   "display_name": "Python 3",
   "language": "python",
   "name": "python3"
  },
  "language_info": {
   "codemirror_mode": {
    "name": "ipython",
    "version": 3
   },
   "file_extension": ".py",
   "mimetype": "text/x-python",
   "name": "python",
   "nbconvert_exporter": "python",
   "pygments_lexer": "ipython3",
   "version": "3.7.6"
  }
 },
 "nbformat": 4,
 "nbformat_minor": 4
}
